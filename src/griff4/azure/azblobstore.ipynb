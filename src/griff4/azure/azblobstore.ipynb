{
 "nbformat": 4,
 "nbformat_minor": 2,
 "metadata": {
  "language_info": {
   "name": "python",
   "codemirror_mode": {
    "name": "ipython",
    "version": 3
   }
  },
  "orig_nbformat": 2,
  "file_extension": ".py",
  "mimetype": "text/x-python",
  "name": "python",
  "npconvert_exporter": "python",
  "pygments_lexer": "ipython3",
  "version": 3
 },
 "cells": [
  {
   "cell_type": "markdown",
   "metadata": {},
   "outputs": [],
   "source": [
    "# Run experiments to store data in azure storage blob."
   ]
  },
  {
   "cell_type": "code",
   "execution_count": 17,
   "metadata": {},
   "outputs": [],
   "source": [
    "from io import BytesIO\n",
    "from azure.storage.blob import BlobClient\n",
    "import os"
   ]
  },
  {
   "cell_type": "markdown",
   "metadata": {},
   "outputs": [],
   "source": [
    "# Get a BlobClient with the specified blob name"
   ]
  },
  {
   "cell_type": "code",
   "execution_count": 18,
   "metadata": {},
   "outputs": [
    {
     "data": {
      "text/plain": "<azure.storage.blob._blob_client.BlobClient at 0x7fb011698320>"
     },
     "execution_count": 18,
     "metadata": {},
     "output_type": "execute_result"
    }
   ],
   "source": [
    "bc = BlobClient.from_connection_string(\n",
    "    conn_str = os.environ['BLOB_CONNECTION_STR'],\n",
    "    container_name = os.environ['CONTAINER_NAME'],\n",
    "    blob_name = 'my.parquet'\n",
    ")\n",
    "bc"
   ]
  },
  {
   "cell_type": "markdown",
   "metadata": {},
   "outputs": [],
   "source": [
    "# Create a pandas data frame for storage"
   ]
  },
  {
   "cell_type": "code",
   "execution_count": 19,
   "metadata": {},
   "outputs": [],
   "source": [
    "\n",
    "import pyarrow as pa\n",
    "import pandas as pd\n",
    "\n",
    "data = {'Name':['Tom', 'nick', 'krish', 'jack'], 'Age':[20, 21, 19, 18]} \n",
    "df = pd.DataFrame(data, index = ('i1', 'i2', 'i3', 'i4'))"
   ]
  },
  {
   "cell_type": "markdown",
   "metadata": {},
   "outputs": [],
   "source": [
    "# Create a pyarrow table from pandas data frame"
   ]
  },
  {
   "cell_type": "code",
   "execution_count": 20,
   "metadata": {},
   "outputs": [
    {
     "data": {
      "text/plain": "Name: string\nAge: int64\n__index_level_0__: string\nmetadata\n--------\nOrderedDict([(b'pandas',\n              b'{\"index_columns\": [\"__index_level_0__\"], \"column_indexes\": ['\n              b'{\"name\": null, \"field_name\": null, \"pandas_type\": \"unicode\",'\n              b' \"numpy_type\": \"object\", \"metadata\": {\"encoding\": \"UTF-8\"}}]'\n              b', \"columns\": [{\"name\": \"Name\", \"field_name\": \"Name\", \"pandas'\n              b'_type\": \"unicode\", \"numpy_type\": \"object\", \"metadata\": null}'\n              b', {\"name\": \"Age\", \"field_name\": \"Age\", \"pandas_type\": \"int64'\n              b'\", \"numpy_type\": \"int64\", \"metadata\": null}, {\"name\": null, '\n              b'\"field_name\": \"__index_level_0__\", \"pandas_type\": \"unicode\",'\n              b' \"numpy_type\": \"object\", \"metadata\": null}], \"creator\": {\"li'\n              b'brary\": \"pyarrow\", \"version\": \"0.15.1\"}, \"pandas_version\": \"'\n              b'0.25.3\"}')])"
     },
     "execution_count": 20,
     "metadata": {},
     "output_type": "execute_result"
    }
   ],
   "source": [
    "output_table = pa.Table.from_pandas(df)\n",
    "output_table.schema"
   ]
  },
  {
   "cell_type": "markdown",
   "metadata": {},
   "outputs": [],
   "source": [
    "# Write the pyarrow table as parquet and store it in azure"
   ]
  },
  {
   "cell_type": "code",
   "execution_count": 21,
   "metadata": {},
   "outputs": [],
   "source": [
    "#%%\n",
    "\n",
    "import pyarrow.parquet as pq\n",
    "\n",
    "try:\n",
    "    outputstream = BytesIO()\n",
    "    pq.write_table(output_table, outputstream)\n",
    "    bc.upload_blob(outputstream.getvalue())\n",
    "finally:\n",
    "    outputstream.close()\n"
   ]
  },
  {
   "cell_type": "markdown",
   "metadata": {},
   "outputs": [],
   "source": [
    "# Read the schema back from the blob store"
   ]
  },
  {
   "cell_type": "code",
   "execution_count": 22,
   "metadata": {},
   "outputs": [],
   "source": [
    "try:\n",
    "    input_blob = bc.download_blob()\n",
    "    inputstream = BytesIO()\n",
    "    input_blob.download_to_stream(inputstream)\n",
    "    input_table = pq.read_table(source=inputstream)\n",
    "finally:\n",
    "    inputstream.close()"
   ]
  },
  {
   "cell_type": "markdown",
   "execution_count": 0,
   "metadata": {},
   "outputs": [],
   "source": [
    "# Assert that the schema are the same"
   ]
  },
  {
   "cell_type": "code",
   "execution_count": 23,
   "metadata": {},
   "outputs": [
    {
     "name": "stdout",
     "output_type": "stream",
     "text": "Source and target parquet are identical!\n"
    }
   ],
   "source": [
    "assert output_table.schema == input_table.schema\n",
    "print('Source and target parquet are identical!')"
   ]
  },
  {
   "cell_type": "markdown",
   "metadata": {},
   "outputs": [],
   "source": [
    "# Print out the table content as pandas data frame"
   ]
  },
  {
   "cell_type": "code",
   "execution_count": 24,
   "metadata": {},
   "outputs": [
    {
     "data": {
      "text/html": "<div>\n<style scoped>\n    .dataframe tbody tr th:only-of-type {\n        vertical-align: middle;\n    }\n\n    .dataframe tbody tr th {\n        vertical-align: top;\n    }\n\n    .dataframe thead th {\n        text-align: right;\n    }\n</style>\n<table border=\"1\" class=\"dataframe\">\n  <thead>\n    <tr style=\"text-align: right;\">\n      <th></th>\n      <th>Name</th>\n      <th>Age</th>\n    </tr>\n  </thead>\n  <tbody>\n    <tr>\n      <th>i1</th>\n      <td>Tom</td>\n      <td>20</td>\n    </tr>\n    <tr>\n      <th>i2</th>\n      <td>nick</td>\n      <td>21</td>\n    </tr>\n    <tr>\n      <th>i3</th>\n      <td>krish</td>\n      <td>19</td>\n    </tr>\n    <tr>\n      <th>i4</th>\n      <td>jack</td>\n      <td>18</td>\n    </tr>\n  </tbody>\n</table>\n</div>",
      "text/plain": "     Name  Age\ni1    Tom   20\ni2   nick   21\ni3  krish   19\ni4   jack   18"
     },
     "execution_count": 24,
     "metadata": {},
     "output_type": "execute_result"
    }
   ],
   "source": [
    "pdf = input_table.to_pandas()\n",
    "pdf"
   ]
  }
 ]
}